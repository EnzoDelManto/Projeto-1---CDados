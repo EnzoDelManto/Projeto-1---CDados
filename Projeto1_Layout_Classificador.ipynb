{
 "cells": [
  {
   "cell_type": "markdown",
   "metadata": {},
   "source": [
    "# Projeto 1 - Ciência dos Dados"
   ]
  },
  {
   "cell_type": "markdown",
   "metadata": {},
   "source": [
    "Nome: Arthur Motta Pereira Gomes\n",
    "\n",
    "Nome: Enzo Martins Barroso Del Manto"
   ]
  },
  {
   "cell_type": "markdown",
   "metadata": {},
   "source": [
    "Atenção: Serão permitidos grupos de três pessoas, mas com uma rubrica mais exigente. Grupos deste tamanho precisarão fazer um questionário de avaliação de trabalho em equipe"
   ]
  },
  {
   "cell_type": "markdown",
   "metadata": {},
   "source": [
    "___\n",
    "Carregando algumas bibliotecas:"
   ]
  },
  {
   "cell_type": "code",
   "execution_count": 18,
   "metadata": {},
   "outputs": [],
   "source": [
    "%matplotlib inline\n",
    "import pandas as pd\n",
    "import matplotlib.pyplot as plt\n",
    "import numpy as np\n",
    "import os\n",
    "import re\n",
    "from math import *"
   ]
  },
  {
   "cell_type": "code",
   "execution_count": 19,
   "metadata": {
    "scrolled": true
   },
   "outputs": [
    {
     "name": "stdout",
     "output_type": "stream",
     "text": [
      "Esperamos trabalhar no diretório\n",
      "C:\\Users\\ZEBINHO\\Downloads\\INSPER\\2° Semestre\\CDados\\P1\\Projeto\n"
     ]
    }
   ],
   "source": [
    "print('Esperamos trabalhar no diretório')\n",
    "print(os.getcwd())"
   ]
  },
  {
   "cell_type": "markdown",
   "metadata": {},
   "source": [
    "Carregando a base de dados com os tweets classificados como relevantes e não relevantes:"
   ]
  },
  {
   "cell_type": "code",
   "execution_count": 20,
   "metadata": {},
   "outputs": [],
   "source": [
    "filename = 'netflix.xlsx'"
   ]
  },
  {
   "cell_type": "code",
   "execution_count": 21,
   "metadata": {
    "scrolled": true
   },
   "outputs": [
    {
     "data": {
      "text/html": [
       "<div>\n",
       "<style scoped>\n",
       "    .dataframe tbody tr th:only-of-type {\n",
       "        vertical-align: middle;\n",
       "    }\n",
       "\n",
       "    .dataframe tbody tr th {\n",
       "        vertical-align: top;\n",
       "    }\n",
       "\n",
       "    .dataframe thead th {\n",
       "        text-align: right;\n",
       "    }\n",
       "</style>\n",
       "<table border=\"1\" class=\"dataframe\">\n",
       "  <thead>\n",
       "    <tr style=\"text-align: right;\">\n",
       "      <th></th>\n",
       "      <th>Treinamento</th>\n",
       "      <th>Relevância</th>\n",
       "    </tr>\n",
       "  </thead>\n",
       "  <tbody>\n",
       "    <tr>\n",
       "      <th>0</th>\n",
       "      <td>e eu que comecei a assistir anime por causa da...</td>\n",
       "      <td>0</td>\n",
       "    </tr>\n",
       "    <tr>\n",
       "      <th>1</th>\n",
       "      <td>#manifest saíra em 20/09 do peacock e do hulu ...</td>\n",
       "      <td>0</td>\n",
       "    </tr>\n",
       "    <tr>\n",
       "      <th>2</th>\n",
       "      <td>se eu tivesse netflix eu seria mais feliz pprt</td>\n",
       "      <td>1</td>\n",
       "    </tr>\n",
       "    <tr>\n",
       "      <th>3</th>\n",
       "      <td>assinem a netflix para os seus avós e impeçam ...</td>\n",
       "      <td>0</td>\n",
       "    </tr>\n",
       "    <tr>\n",
       "      <th>4</th>\n",
       "      <td>eu nunca vou superar toda vez que eu tiver a o...</td>\n",
       "      <td>1</td>\n",
       "    </tr>\n",
       "  </tbody>\n",
       "</table>\n",
       "</div>"
      ],
      "text/plain": [
       "                                         Treinamento  Relevância\n",
       "0  e eu que comecei a assistir anime por causa da...           0\n",
       "1  #manifest saíra em 20/09 do peacock e do hulu ...           0\n",
       "2     se eu tivesse netflix eu seria mais feliz pprt           1\n",
       "3  assinem a netflix para os seus avós e impeçam ...           0\n",
       "4  eu nunca vou superar toda vez que eu tiver a o...           1"
      ]
     },
     "execution_count": 21,
     "metadata": {},
     "output_type": "execute_result"
    }
   ],
   "source": [
    "file = pd.read_excel(filename)\n",
    "file.head(5)"
   ]
  },
  {
   "cell_type": "code",
   "execution_count": 5,
   "metadata": {
    "scrolled": true
   },
   "outputs": [
    {
     "data": {
      "text/html": [
       "<div>\n",
       "<style scoped>\n",
       "    .dataframe tbody tr th:only-of-type {\n",
       "        vertical-align: middle;\n",
       "    }\n",
       "\n",
       "    .dataframe tbody tr th {\n",
       "        vertical-align: top;\n",
       "    }\n",
       "\n",
       "    .dataframe thead th {\n",
       "        text-align: right;\n",
       "    }\n",
       "</style>\n",
       "<table border=\"1\" class=\"dataframe\">\n",
       "  <thead>\n",
       "    <tr style=\"text-align: right;\">\n",
       "      <th></th>\n",
       "      <th>Treinamento</th>\n",
       "      <th>Relevância</th>\n",
       "    </tr>\n",
       "  </thead>\n",
       "  <tbody>\n",
       "    <tr>\n",
       "      <th>0</th>\n",
       "      <td>e eu que comecei a assistir anime por causa da...</td>\n",
       "      <td>0</td>\n",
       "    </tr>\n",
       "    <tr>\n",
       "      <th>1</th>\n",
       "      <td>#manifest saíra em 20/09 do peacock e do hulu ...</td>\n",
       "      <td>0</td>\n",
       "    </tr>\n",
       "    <tr>\n",
       "      <th>2</th>\n",
       "      <td>se eu tivesse netflix eu seria mais feliz pprt</td>\n",
       "      <td>1</td>\n",
       "    </tr>\n",
       "    <tr>\n",
       "      <th>3</th>\n",
       "      <td>assinem a netflix para os seus avós e impeçam ...</td>\n",
       "      <td>0</td>\n",
       "    </tr>\n",
       "    <tr>\n",
       "      <th>4</th>\n",
       "      <td>eu nunca vou superar toda vez que eu tiver a o...</td>\n",
       "      <td>1</td>\n",
       "    </tr>\n",
       "  </tbody>\n",
       "</table>\n",
       "</div>"
      ],
      "text/plain": [
       "                                         Treinamento  Relevância\n",
       "0  e eu que comecei a assistir anime por causa da...           0\n",
       "1  #manifest saíra em 20/09 do peacock e do hulu ...           0\n",
       "2     se eu tivesse netflix eu seria mais feliz pprt           1\n",
       "3  assinem a netflix para os seus avós e impeçam ...           0\n",
       "4  eu nunca vou superar toda vez que eu tiver a o...           1"
      ]
     },
     "execution_count": 5,
     "metadata": {},
     "output_type": "execute_result"
    }
   ],
   "source": [
    "train = pd.read_excel(filename, sheet_name='Treinamento')\n",
    "train.head(5)"
   ]
  },
  {
   "cell_type": "markdown",
   "metadata": {},
   "source": [
    "___\n",
    "## Classificador automático de sentimento\n"
   ]
  },
  {
   "cell_type": "markdown",
   "metadata": {},
   "source": [
    "Faça aqui uma descrição do seu produto e o que considerou como relevante ou não relevante na classificação dos tweets.\n",
    "\n",
    "Nosso produto é um serviço virtual por assinatura que disponibiliza filmes e séries para o usuário assistir. Nós consideramos como relevantes tweets que opinam sobre o serviço da Netflix."
   ]
  },
  {
   "cell_type": "markdown",
   "metadata": {},
   "source": [
    "___\n",
    "### Montando um Classificador Naive-Bayes\n",
    "\n",
    "Considerando apenas as mensagens da planilha Treinamento, ensine  seu classificador."
   ]
  },
  {
   "cell_type": "code",
   "execution_count": 6,
   "metadata": {},
   "outputs": [],
   "source": [
    "alpha = 0.5\n",
    "v = 1e4\n",
    "\n",
    "#CLEANUP - Função de limpeza muito simples que troca alguns sinais básicos por espaços\n",
    "def cleanup(text):\n",
    "    punctuation = '[!-.:?;\"\\n\"()'',_%$<>\\|/]'\n",
    "    pattern = re.compile(punctuation)\n",
    "    text_subbed = re.sub(pattern, '', text)\n",
    "    return text_subbed\n",
    "\n",
    "#FREQWORDS - Definir frequência de cada palavra e definir relevância do tweet\n",
    "def freqwords(tweet):\n",
    "    \n",
    "    prob_tweet_r = 1\n",
    "    prob_tweet_i = 1\n",
    "    \n",
    "    tweets = tweet.split(' ')\n",
    "    \n",
    "    for word in tweets:\n",
    "        if word in freq_re_rel:\n",
    "            prob_tweet_r *= freq_re_rel[word]\n",
    "        elif word not in freq_re_rel:\n",
    "            prob_tweet_r *= (alpha/(freq_ab_rel.sum() + (alpha*v)))\n",
    "            \n",
    "        if word in freq_re_irr:\n",
    "            prob_tweet_i *= freq_re_irr[word]\n",
    "        elif word not in freq_re_irr:\n",
    "            prob_tweet_i *= (alpha/(freq_ab_irr.sum() + (alpha*v)))\n",
    "            \n",
    "    prob_tweet_rel = prob_tweet_r*p_rel\n",
    "    prob_tweet_irr = prob_tweet_i*p_irr\n",
    "    \n",
    "    if max(log(prob_tweet_rel, 10), log(prob_tweet_irr, 10)) == log(prob_tweet_rel, 10): \n",
    "        return 'Relevante'\n",
    "    if max(log(prob_tweet_rel, 10), log(prob_tweet_irr, 10)) == log(prob_tweet_irr, 10):\n",
    "        return 'Irrelevante'"
   ]
  },
  {
   "cell_type": "code",
   "execution_count": 22,
   "metadata": {
    "scrolled": true
   },
   "outputs": [
    {
     "data": {
      "text/html": [
       "<div>\n",
       "<style scoped>\n",
       "    .dataframe tbody tr th:only-of-type {\n",
       "        vertical-align: middle;\n",
       "    }\n",
       "\n",
       "    .dataframe tbody tr th {\n",
       "        vertical-align: top;\n",
       "    }\n",
       "\n",
       "    .dataframe thead th {\n",
       "        text-align: right;\n",
       "    }\n",
       "</style>\n",
       "<table border=\"1\" class=\"dataframe\">\n",
       "  <thead>\n",
       "    <tr style=\"text-align: right;\">\n",
       "      <th>Classificador</th>\n",
       "      <th>Irrelevante</th>\n",
       "      <th>Relevante</th>\n",
       "    </tr>\n",
       "    <tr>\n",
       "      <th>Relevância</th>\n",
       "      <th></th>\n",
       "      <th></th>\n",
       "    </tr>\n",
       "  </thead>\n",
       "  <tbody>\n",
       "    <tr>\n",
       "      <th>Irrelevante</th>\n",
       "      <td>0.570000</td>\n",
       "      <td>0.000000</td>\n",
       "    </tr>\n",
       "    <tr>\n",
       "      <th>Relevante</th>\n",
       "      <td>0.036667</td>\n",
       "      <td>0.393333</td>\n",
       "    </tr>\n",
       "  </tbody>\n",
       "</table>\n",
       "</div>"
      ],
      "text/plain": [
       "Classificador  Irrelevante  Relevante\n",
       "Relevância                           \n",
       "Irrelevante       0.570000   0.000000\n",
       "Relevante         0.036667   0.393333"
      ]
     },
     "execution_count": 22,
     "metadata": {},
     "output_type": "execute_result"
    }
   ],
   "source": [
    "#Limpando tweets de treinamento\n",
    "train['Treinamento'] = train['Treinamento'].apply(cleanup)\n",
    "\n",
    "#Transformando caracteres dos tweets em minúsculos\n",
    "train['Treinamento'] = train['Treinamento'].str.lower()\n",
    "\n",
    "#Transformando Relevância em uma variável qualitativa ordinal\n",
    "train['Relevância'] = train['Relevância'].astype('category')\n",
    "train['Relevância'].cat.categories = ['Irrelevante', 'Relevante']\n",
    "\n",
    "#DataFrames separados por relevância\n",
    "relevante = train['Relevância'] == 'Relevante'\n",
    "irrelevante = train['Relevância'] == 'Irrelevante'\n",
    "df_relevante = train.loc[relevante, :]\n",
    "df_irrelevante = train.loc[irrelevante, :]\n",
    "\n",
    "#Separando DataFrames em listas de palavras e em listas de tweets\n",
    "tweets_relevantes = []\n",
    "lista_words_rel = []\n",
    "for tweet in df_relevante['Treinamento']:\n",
    "    tweets_relevantes.append(tweet.split(' '))\n",
    "for word in tweets_relevantes:\n",
    "    lista_words_rel += word\n",
    "tweets_irrelevantes = []\n",
    "lista_words_irr = []\n",
    "for tweet in df_irrelevante['Treinamento']:\n",
    "    tweets_irrelevantes.append(tweet.split(' '))\n",
    "for word in tweets_irrelevantes:\n",
    "    lista_words_irr += word\n",
    "\n",
    "#Transformando as listas de palavras em pd.Series\n",
    "serie_relevante = pd.Series(lista_words_rel)\n",
    "serie_irrelevante = pd.Series(lista_words_irr)\n",
    "\n",
    "#Probabilidade de ser relevante/irrelevante\n",
    "p_rel = len(tweets_relevantes) / len(train[\"Treinamento\"])\n",
    "p_irr = len(tweets_irrelevantes) / len(train[\"Treinamento\"])\n",
    "\n",
    "#Relevância = 0\n",
    "freq_ab_irr = serie_irrelevante.value_counts() \n",
    "freq_re_irr = (freq_ab_irr + alpha)/(freq_ab_irr.sum() + (alpha*v))\n",
    "\n",
    "#Relevância = 1\n",
    "freq_ab_rel = serie_relevante.value_counts() \n",
    "freq_re_rel = (freq_ab_rel + alpha)/(freq_ab_rel.sum() + (alpha*v))\n",
    "\n",
    "#Aplicando função na planilha de treino\n",
    "train['Classificador'] = train['Treinamento'].apply(freqwords)\n",
    "\n",
    "#Gerando tabela cruzada da planilha de treino\n",
    "tabela_train = pd.crosstab(train['Relevância'], train['Classificador'], normalize='all')\n",
    "tabela_train"
   ]
  },
  {
   "cell_type": "code",
   "execution_count": 23,
   "metadata": {},
   "outputs": [
    {
     "name": "stdout",
     "output_type": "stream",
     "text": [
      "O acerto do classificador na planilha de treinos foi de: 96.33%\n"
     ]
    }
   ],
   "source": [
    "print('O acerto do classificador na planilha de treinos foi de: {0:.2f}%'.format((tabela_train.iloc[0,0]+tabela_train.iloc[1,1])*100))"
   ]
  },
  {
   "cell_type": "markdown",
   "metadata": {},
   "source": [
    "___\n",
    "### Verificando a performance do Classificador\n",
    "\n",
    "Agora você deve testar o seu classificador com a base de Testes."
   ]
  },
  {
   "cell_type": "code",
   "execution_count": 24,
   "metadata": {},
   "outputs": [
    {
     "data": {
      "text/html": [
       "<div>\n",
       "<style scoped>\n",
       "    .dataframe tbody tr th:only-of-type {\n",
       "        vertical-align: middle;\n",
       "    }\n",
       "\n",
       "    .dataframe tbody tr th {\n",
       "        vertical-align: top;\n",
       "    }\n",
       "\n",
       "    .dataframe thead th {\n",
       "        text-align: right;\n",
       "    }\n",
       "</style>\n",
       "<table border=\"1\" class=\"dataframe\">\n",
       "  <thead>\n",
       "    <tr style=\"text-align: right;\">\n",
       "      <th>Classificador</th>\n",
       "      <th>Irrelevante</th>\n",
       "      <th>Relevante</th>\n",
       "    </tr>\n",
       "    <tr>\n",
       "      <th>Relevância</th>\n",
       "      <th></th>\n",
       "      <th></th>\n",
       "    </tr>\n",
       "  </thead>\n",
       "  <tbody>\n",
       "    <tr>\n",
       "      <th>Irrelevante</th>\n",
       "      <td>0.41</td>\n",
       "      <td>0.07</td>\n",
       "    </tr>\n",
       "    <tr>\n",
       "      <th>Relevante</th>\n",
       "      <td>0.32</td>\n",
       "      <td>0.20</td>\n",
       "    </tr>\n",
       "  </tbody>\n",
       "</table>\n",
       "</div>"
      ],
      "text/plain": [
       "Classificador  Irrelevante  Relevante\n",
       "Relevância                           \n",
       "Irrelevante           0.41       0.07\n",
       "Relevante             0.32       0.20"
      ]
     },
     "execution_count": 24,
     "metadata": {},
     "output_type": "execute_result"
    }
   ],
   "source": [
    "#Lendo planilha Teste\n",
    "test = pd.read_excel(filename, sheet_name = 'Teste')\n",
    "\n",
    "#Limpando tweets de teste\n",
    "test['Teste'] = test['Teste'].apply(cleanup)\n",
    "\n",
    "#Transformando caracteres dos tweets em minúsculos\n",
    "test['Teste'] = test['Teste'].str.lower()\n",
    "\n",
    "#Transformando Relevância em uma variável qualitativa ordinal\n",
    "test['Relevância'] = test['Relevância'].astype('category')\n",
    "test['Relevância'].cat.categories = ['Irrelevante', 'Relevante']\n",
    "\n",
    "#Aplicando função na planilha de testes\n",
    "test['Classificador'] = test['Teste'].apply(freqwords)\n",
    "\n",
    "#Gerando tabela cruzada da planilha de testes\n",
    "tabela_test = pd.crosstab(test['Relevância'], test['Classificador'], normalize='all')\n",
    "tabela_test"
   ]
  },
  {
   "cell_type": "code",
   "execution_count": 25,
   "metadata": {},
   "outputs": [
    {
     "name": "stdout",
     "output_type": "stream",
     "text": [
      "O acerto do classificador na planilha de testes foi de: 61.0%\n"
     ]
    }
   ],
   "source": [
    "print('O acerto do classificador na planilha de testes foi de: {0}%'.format((tabela_test.iloc[0,0]+tabela_test.iloc[1,1])*100))"
   ]
  },
  {
   "cell_type": "markdown",
   "metadata": {},
   "source": [
    "## ___\n",
    "### Concluindo"
   ]
  },
  {
   "cell_type": "code",
   "execution_count": 26,
   "metadata": {},
   "outputs": [
    {
     "name": "stdout",
     "output_type": "stream",
     "text": [
      "Porcentagem de mensagens relevantes que foram classificadas como relevantes: 38.46%\n",
      "Porcentagem de mensagens relevantes que não foram classificadas como relevantes: 61.536%\n"
     ]
    }
   ],
   "source": [
    "print(f'Porcentagem de mensagens relevantes que foram classificadas como relevantes: {(tabela_test.iloc[1,1])*192.3:g}%')\n",
    "print(f'Porcentagem de mensagens relevantes que não foram classificadas como relevantes: {(tabela_test.iloc[1,0])*192.3:g}%')"
   ]
  },
  {
   "cell_type": "code",
   "execution_count": 27,
   "metadata": {},
   "outputs": [
    {
     "name": "stdout",
     "output_type": "stream",
     "text": [
      "Porcentagem de mensagens irrelevantes que foram classificadas como irrelevantes: 85.403%\n",
      "\n",
      "Porcentagem de mensagens irrelevantes que não foram classificadas como irrelevantes: 14.581%\n"
     ]
    }
   ],
   "source": [
    "print(f'Porcentagem de mensagens irrelevantes que foram classificadas como irrelevantes: {(tabela_test.iloc[0,0])*208.3:g}%')\n",
    "print()\n",
    "print(f'Porcentagem de mensagens irrelevantes que não foram classificadas como irrelevantes: {(tabela_test.iloc[0,1])*208.3:g}%')"
   ]
  },
  {
   "cell_type": "markdown",
   "metadata": {},
   "source": [
    "___\n",
    "### Qualidade do Classificador a partir de novas separações dos tweets entre Treinamento e Teste\n",
    "\n",
    "Caso for fazer esse item do Projeto"
   ]
  },
  {
   "cell_type": "code",
   "execution_count": null,
   "metadata": {},
   "outputs": [],
   "source": []
  },
  {
   "cell_type": "code",
   "execution_count": null,
   "metadata": {},
   "outputs": [],
   "source": []
  },
  {
   "cell_type": "code",
   "execution_count": null,
   "metadata": {},
   "outputs": [],
   "source": []
  },
  {
   "cell_type": "markdown",
   "metadata": {},
   "source": [
    "___\n",
    "## Aperfeiçoamento:\n",
    "\n",
    "Trabalhos que conseguirem pelo menos conceito B vão evoluir em conceito dependendo da quantidade de itens avançados:\n",
    "\n",
    "* IMPLEMENTOU outras limpezas e transformações que não afetem a qualidade da informação contida nos tweets. Ex: stemming, lemmatization, stopwords\n",
    "* CORRIGIU separação de espaços entre palavras e emojis ou entre emojis e emojis\n",
    "* CRIOU categorias intermediárias de relevância baseadas na probabilidade: ex.: muito relevante, relevante, neutro, irrelevante, muito irrelevante. Pelo menos quatro categorias, com adição de mais tweets na base, conforme enunciado. (OBRIGATÓRIO PARA TRIOS, sem contar como item avançado)\n",
    "* EXPLICOU porquê não pode usar o próprio classificador para gerar mais amostras de treinamento\n",
    "* PROPÔS diferentes cenários para Naïve Bayes fora do contexto do projeto\n",
    "* SUGERIU e EXPLICOU melhorias reais com indicações concretas de como implementar (indicar como fazer e indicar material de pesquisa)\n",
    "* FEZ o item 6. Qualidade do Classificador a partir de novas separações dos tweets entre Treinamento e Teste descrito no enunciado do projeto (OBRIGATÓRIO para conceitos A ou A+)"
   ]
  },
  {
   "cell_type": "markdown",
   "metadata": {},
   "source": [
    "___\n",
    "## Referências"
   ]
  },
  {
   "cell_type": "markdown",
   "metadata": {},
   "source": [
    "[Naive Bayes and Text Classification](https://arxiv.org/pdf/1410.5329.pdf)  **Mais completo**\n",
    "\n",
    "[A practical explanation of a Naive Bayes Classifier](https://monkeylearn.com/blog/practical-explanation-naive-bayes-classifier/) **Mais simples**"
   ]
  }
 ],
 "metadata": {
  "kernelspec": {
   "display_name": "Python 3",
   "language": "python",
   "name": "python3"
  },
  "language_info": {
   "codemirror_mode": {
    "name": "ipython",
    "version": 3
   },
   "file_extension": ".py",
   "mimetype": "text/x-python",
   "name": "python",
   "nbconvert_exporter": "python",
   "pygments_lexer": "ipython3",
   "version": "3.8.8"
  }
 },
 "nbformat": 4,
 "nbformat_minor": 4
}
