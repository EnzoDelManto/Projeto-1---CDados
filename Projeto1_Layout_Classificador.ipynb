{
 "cells": [
  {
   "cell_type": "markdown",
   "source": [
    "# Projeto 1 - Ciência dos Dados"
   ],
   "metadata": {}
  },
  {
   "cell_type": "markdown",
   "source": [
    "Nome: Arthur Motta Pereira Gomes\n",
    "\n",
    "Nome: Enzo Martins Barroso Del Manto"
   ],
   "metadata": {}
  },
  {
   "cell_type": "markdown",
   "source": [
    "Atenção: Serão permitidos grupos de três pessoas, mas com uma rubrica mais exigente. Grupos deste tamanho precisarão fazer um questionário de avaliação de trabalho em equipe"
   ],
   "metadata": {}
  },
  {
   "cell_type": "markdown",
   "source": [
    "___\n",
    "Carregando algumas bibliotecas:"
   ],
   "metadata": {}
  },
  {
   "cell_type": "code",
   "execution_count": 18,
   "source": [
    "%matplotlib inline\r\n",
    "import pandas as pd\r\n",
    "import matplotlib.pyplot as plt\r\n",
    "import numpy as np\r\n",
    "import os\r\n",
    "import re\r\n",
    "from math import *"
   ],
   "outputs": [],
   "metadata": {}
  },
  {
   "cell_type": "code",
   "execution_count": 19,
   "source": [
    "print('Esperamos trabalhar no diretório')\r\n",
    "print(os.getcwd())"
   ],
   "outputs": [
    {
     "output_type": "stream",
     "name": "stdout",
     "text": [
      "Esperamos trabalhar no diretório\n",
      "C:\\Users\\ZEBINHO\\Downloads\\INSPER\\2° Semestre\\CDados\\P1\\Projeto\n"
     ]
    }
   ],
   "metadata": {
    "scrolled": true
   }
  },
  {
   "cell_type": "markdown",
   "source": [
    "Carregando a base de dados com os tweets classificados como relevantes e não relevantes:"
   ],
   "metadata": {}
  },
  {
   "cell_type": "code",
   "execution_count": 20,
   "source": [
    "filename = 'netflix.xlsx'"
   ],
   "outputs": [],
   "metadata": {}
  },
  {
   "cell_type": "code",
   "execution_count": 21,
   "source": [
    "file = pd.read_excel(filename)\r\n",
    "file.head(5)"
   ],
   "outputs": [
    {
     "output_type": "execute_result",
     "data": {
      "text/html": [
       "<div>\n",
       "<style scoped>\n",
       "    .dataframe tbody tr th:only-of-type {\n",
       "        vertical-align: middle;\n",
       "    }\n",
       "\n",
       "    .dataframe tbody tr th {\n",
       "        vertical-align: top;\n",
       "    }\n",
       "\n",
       "    .dataframe thead th {\n",
       "        text-align: right;\n",
       "    }\n",
       "</style>\n",
       "<table border=\"1\" class=\"dataframe\">\n",
       "  <thead>\n",
       "    <tr style=\"text-align: right;\">\n",
       "      <th></th>\n",
       "      <th>Treinamento</th>\n",
       "      <th>Relevância</th>\n",
       "    </tr>\n",
       "  </thead>\n",
       "  <tbody>\n",
       "    <tr>\n",
       "      <th>0</th>\n",
       "      <td>e eu que comecei a assistir anime por causa da...</td>\n",
       "      <td>0</td>\n",
       "    </tr>\n",
       "    <tr>\n",
       "      <th>1</th>\n",
       "      <td>#manifest saíra em 20/09 do peacock e do hulu ...</td>\n",
       "      <td>0</td>\n",
       "    </tr>\n",
       "    <tr>\n",
       "      <th>2</th>\n",
       "      <td>se eu tivesse netflix eu seria mais feliz pprt</td>\n",
       "      <td>1</td>\n",
       "    </tr>\n",
       "    <tr>\n",
       "      <th>3</th>\n",
       "      <td>assinem a netflix para os seus avós e impeçam ...</td>\n",
       "      <td>0</td>\n",
       "    </tr>\n",
       "    <tr>\n",
       "      <th>4</th>\n",
       "      <td>eu nunca vou superar toda vez que eu tiver a o...</td>\n",
       "      <td>1</td>\n",
       "    </tr>\n",
       "  </tbody>\n",
       "</table>\n",
       "</div>"
      ],
      "text/plain": [
       "                                         Treinamento  Relevância\n",
       "0  e eu que comecei a assistir anime por causa da...           0\n",
       "1  #manifest saíra em 20/09 do peacock e do hulu ...           0\n",
       "2     se eu tivesse netflix eu seria mais feliz pprt           1\n",
       "3  assinem a netflix para os seus avós e impeçam ...           0\n",
       "4  eu nunca vou superar toda vez que eu tiver a o...           1"
      ]
     },
     "metadata": {},
     "execution_count": 21
    }
   ],
   "metadata": {
    "scrolled": true
   }
  },
  {
   "cell_type": "code",
   "execution_count": 5,
   "source": [
    "train = pd.read_excel(filename, sheet_name='Treinamento')\r\n",
    "train.head(5)"
   ],
   "outputs": [
    {
     "output_type": "execute_result",
     "data": {
      "text/html": [
       "<div>\n",
       "<style scoped>\n",
       "    .dataframe tbody tr th:only-of-type {\n",
       "        vertical-align: middle;\n",
       "    }\n",
       "\n",
       "    .dataframe tbody tr th {\n",
       "        vertical-align: top;\n",
       "    }\n",
       "\n",
       "    .dataframe thead th {\n",
       "        text-align: right;\n",
       "    }\n",
       "</style>\n",
       "<table border=\"1\" class=\"dataframe\">\n",
       "  <thead>\n",
       "    <tr style=\"text-align: right;\">\n",
       "      <th></th>\n",
       "      <th>Treinamento</th>\n",
       "      <th>Relevância</th>\n",
       "    </tr>\n",
       "  </thead>\n",
       "  <tbody>\n",
       "    <tr>\n",
       "      <th>0</th>\n",
       "      <td>e eu que comecei a assistir anime por causa da...</td>\n",
       "      <td>0</td>\n",
       "    </tr>\n",
       "    <tr>\n",
       "      <th>1</th>\n",
       "      <td>#manifest saíra em 20/09 do peacock e do hulu ...</td>\n",
       "      <td>0</td>\n",
       "    </tr>\n",
       "    <tr>\n",
       "      <th>2</th>\n",
       "      <td>se eu tivesse netflix eu seria mais feliz pprt</td>\n",
       "      <td>1</td>\n",
       "    </tr>\n",
       "    <tr>\n",
       "      <th>3</th>\n",
       "      <td>assinem a netflix para os seus avós e impeçam ...</td>\n",
       "      <td>0</td>\n",
       "    </tr>\n",
       "    <tr>\n",
       "      <th>4</th>\n",
       "      <td>eu nunca vou superar toda vez que eu tiver a o...</td>\n",
       "      <td>1</td>\n",
       "    </tr>\n",
       "  </tbody>\n",
       "</table>\n",
       "</div>"
      ],
      "text/plain": [
       "                                         Treinamento  Relevância\n",
       "0  e eu que comecei a assistir anime por causa da...           0\n",
       "1  #manifest saíra em 20/09 do peacock e do hulu ...           0\n",
       "2     se eu tivesse netflix eu seria mais feliz pprt           1\n",
       "3  assinem a netflix para os seus avós e impeçam ...           0\n",
       "4  eu nunca vou superar toda vez que eu tiver a o...           1"
      ]
     },
     "metadata": {},
     "execution_count": 5
    }
   ],
   "metadata": {
    "scrolled": true
   }
  },
  {
   "cell_type": "markdown",
   "source": [
    "___\n",
    "## Classificador automático de sentimento\n"
   ],
   "metadata": {}
  },
  {
   "cell_type": "markdown",
   "source": [
    "Faça aqui uma descrição do seu produto e o que considerou como relevante ou não relevante na classificação dos tweets.\n",
    "\n",
    "Nosso produto é um serviço virtual por assinatura que disponibiliza filmes e séries para o usuário assistir. Nós consideramos como relevantes tweets que opinam sobre o serviço da Netflix."
   ],
   "metadata": {}
  },
  {
   "cell_type": "markdown",
   "source": [
    "___\n",
    "### Montando um Classificador Naive-Bayes\n",
    "\n",
    "Considerando apenas as mensagens da planilha Treinamento, ensine  seu classificador."
   ],
   "metadata": {}
  },
  {
   "cell_type": "code",
   "execution_count": 6,
   "source": [
    "alpha = 0.5\r\n",
    "v = 1e4\r\n",
    "\r\n",
    "#CLEANUP - Função de limpeza muito simples que troca alguns sinais básicos por espaços\r\n",
    "def cleanup(text):\r\n",
    "    punctuation = '[!-.:?;\"\\n\"()'',_%$<>\\|/]'\r\n",
    "    pattern = re.compile(punctuation)\r\n",
    "    text_subbed = re.sub(pattern, '', text)\r\n",
    "    return text_subbed\r\n",
    "\r\n",
    "#FREQWORDS - Definir frequência de cada palavra e definir relevância do tweet\r\n",
    "def freqwords(tweet):\r\n",
    "    \r\n",
    "    prob_tweet_r = 1\r\n",
    "    prob_tweet_i = 1\r\n",
    "    \r\n",
    "    tweets = tweet.split(' ')\r\n",
    "    \r\n",
    "    for word in tweets:\r\n",
    "        if word in freq_re_rel:\r\n",
    "            prob_tweet_r *= freq_re_rel[word]\r\n",
    "        elif word not in freq_re_rel:\r\n",
    "            prob_tweet_r *= (alpha/(freq_ab_rel.sum() + (alpha*v)))\r\n",
    "            \r\n",
    "        if word in freq_re_irr:\r\n",
    "            prob_tweet_i *= freq_re_irr[word]\r\n",
    "        elif word not in freq_re_irr:\r\n",
    "            prob_tweet_i *= (alpha/(freq_ab_irr.sum() + (alpha*v)))\r\n",
    "            \r\n",
    "    prob_tweet_rel = prob_tweet_r*p_rel\r\n",
    "    prob_tweet_irr = prob_tweet_i*p_irr\r\n",
    "    \r\n",
    "    if max(log(prob_tweet_rel, 10), log(prob_tweet_irr, 10)) == log(prob_tweet_rel, 10): \r\n",
    "        return 'Relevante'\r\n",
    "    if max(log(prob_tweet_rel, 10), log(prob_tweet_irr, 10)) == log(prob_tweet_irr, 10):\r\n",
    "        return 'Irrelevante'"
   ],
   "outputs": [],
   "metadata": {}
  },
  {
   "cell_type": "code",
   "execution_count": 22,
   "source": [
    "#Limpando tweets de treinamento\r\n",
    "train['Treinamento'] = train['Treinamento'].apply(cleanup)\r\n",
    "\r\n",
    "#Transformando caracteres dos tweets em minúsculos\r\n",
    "train['Treinamento'] = train['Treinamento'].str.lower()\r\n",
    "\r\n",
    "#Transformando Relevância em uma variável qualitativa ordinal\r\n",
    "train['Relevância'] = train['Relevância'].astype('category')\r\n",
    "train['Relevância'].cat.categories = ['Irrelevante', 'Relevante']\r\n",
    "\r\n",
    "#DataFrames separados por relevância\r\n",
    "relevante = train['Relevância'] == 'Relevante'\r\n",
    "irrelevante = train['Relevância'] == 'Irrelevante'\r\n",
    "df_relevante = train.loc[relevante, :]\r\n",
    "df_irrelevante = train.loc[irrelevante, :]\r\n",
    "\r\n",
    "#Separando DataFrames em listas de palavras e em listas de tweets\r\n",
    "tweets_relevantes = []\r\n",
    "lista_words_rel = []\r\n",
    "for tweet in df_relevante['Treinamento']:\r\n",
    "    tweets_relevantes.append(tweet.split(' '))\r\n",
    "for word in tweets_relevantes:\r\n",
    "    lista_words_rel += word\r\n",
    "tweets_irrelevantes = []\r\n",
    "lista_words_irr = []\r\n",
    "for tweet in df_irrelevante['Treinamento']:\r\n",
    "    tweets_irrelevantes.append(tweet.split(' '))\r\n",
    "for word in tweets_irrelevantes:\r\n",
    "    lista_words_irr += word\r\n",
    "\r\n",
    "#Transformando as listas de palavras em pd.Series\r\n",
    "serie_relevante = pd.Series(lista_words_rel)\r\n",
    "serie_irrelevante = pd.Series(lista_words_irr)\r\n",
    "\r\n",
    "#Probabilidade de ser relevante/irrelevante\r\n",
    "p_rel = len(tweets_relevantes) / len(train[\"Treinamento\"])\r\n",
    "p_irr = len(tweets_irrelevantes) / len(train[\"Treinamento\"])\r\n",
    "\r\n",
    "#Relevância = 0\r\n",
    "freq_ab_irr = serie_irrelevante.value_counts() \r\n",
    "freq_re_irr = (freq_ab_irr + alpha)/(freq_ab_irr.sum() + (alpha*v))\r\n",
    "\r\n",
    "#Relevância = 1\r\n",
    "freq_ab_rel = serie_relevante.value_counts() \r\n",
    "freq_re_rel = (freq_ab_rel + alpha)/(freq_ab_rel.sum() + (alpha*v))\r\n",
    "\r\n",
    "#Aplicando função na planilha de treino\r\n",
    "train['Classificador'] = train['Treinamento'].apply(freqwords)\r\n",
    "\r\n",
    "#Gerando tabela cruzada da planilha de treino\r\n",
    "tabela_train = pd.crosstab(train['Relevância'], train['Classificador'], normalize='all')\r\n",
    "tabela_train"
   ],
   "outputs": [
    {
     "output_type": "execute_result",
     "data": {
      "text/html": [
       "<div>\n",
       "<style scoped>\n",
       "    .dataframe tbody tr th:only-of-type {\n",
       "        vertical-align: middle;\n",
       "    }\n",
       "\n",
       "    .dataframe tbody tr th {\n",
       "        vertical-align: top;\n",
       "    }\n",
       "\n",
       "    .dataframe thead th {\n",
       "        text-align: right;\n",
       "    }\n",
       "</style>\n",
       "<table border=\"1\" class=\"dataframe\">\n",
       "  <thead>\n",
       "    <tr style=\"text-align: right;\">\n",
       "      <th>Classificador</th>\n",
       "      <th>Irrelevante</th>\n",
       "      <th>Relevante</th>\n",
       "    </tr>\n",
       "    <tr>\n",
       "      <th>Relevância</th>\n",
       "      <th></th>\n",
       "      <th></th>\n",
       "    </tr>\n",
       "  </thead>\n",
       "  <tbody>\n",
       "    <tr>\n",
       "      <th>Irrelevante</th>\n",
       "      <td>0.570000</td>\n",
       "      <td>0.000000</td>\n",
       "    </tr>\n",
       "    <tr>\n",
       "      <th>Relevante</th>\n",
       "      <td>0.036667</td>\n",
       "      <td>0.393333</td>\n",
       "    </tr>\n",
       "  </tbody>\n",
       "</table>\n",
       "</div>"
      ],
      "text/plain": [
       "Classificador  Irrelevante  Relevante\n",
       "Relevância                           \n",
       "Irrelevante       0.570000   0.000000\n",
       "Relevante         0.036667   0.393333"
      ]
     },
     "metadata": {},
     "execution_count": 22
    }
   ],
   "metadata": {
    "scrolled": true
   }
  },
  {
   "cell_type": "code",
   "execution_count": 23,
   "source": [
    "print('O acerto do classificador na planilha de treinos foi de: {0:.2f}%'.format((tabela_train.iloc[0,0]+tabela_train.iloc[1,1])*100))"
   ],
   "outputs": [
    {
     "output_type": "stream",
     "name": "stdout",
     "text": [
      "O acerto do classificador na planilha de treinos foi de: 96.33%\n"
     ]
    }
   ],
   "metadata": {}
  },
  {
   "cell_type": "markdown",
   "source": [
    "___\n",
    "### Verificando a performance do Classificador\n",
    "\n",
    "Agora você deve testar o seu classificador com a base de Testes."
   ],
   "metadata": {}
  },
  {
   "cell_type": "code",
   "execution_count": 24,
   "source": [
    "#Lendo planilha Teste\r\n",
    "test = pd.read_excel(filename, sheet_name = 'Teste')\r\n",
    "\r\n",
    "#Limpando tweets de teste\r\n",
    "test['Teste'] = test['Teste'].apply(cleanup)\r\n",
    "\r\n",
    "#Transformando caracteres dos tweets em minúsculos\r\n",
    "test['Teste'] = test['Teste'].str.lower()\r\n",
    "\r\n",
    "#Transformando Relevância em uma variável qualitativa ordinal\r\n",
    "test['Relevância'] = test['Relevância'].astype('category')\r\n",
    "test['Relevância'].cat.categories = ['Irrelevante', 'Relevante']\r\n",
    "\r\n",
    "#Aplicando função na planilha de testes\r\n",
    "test['Classificador'] = test['Teste'].apply(freqwords)\r\n",
    "\r\n",
    "#Gerando tabela cruzada da planilha de testes\r\n",
    "tabela_test = pd.crosstab(test['Relevância'], test['Classificador'], normalize='all')\r\n",
    "tabela_test"
   ],
   "outputs": [
    {
     "output_type": "execute_result",
     "data": {
      "text/html": [
       "<div>\n",
       "<style scoped>\n",
       "    .dataframe tbody tr th:only-of-type {\n",
       "        vertical-align: middle;\n",
       "    }\n",
       "\n",
       "    .dataframe tbody tr th {\n",
       "        vertical-align: top;\n",
       "    }\n",
       "\n",
       "    .dataframe thead th {\n",
       "        text-align: right;\n",
       "    }\n",
       "</style>\n",
       "<table border=\"1\" class=\"dataframe\">\n",
       "  <thead>\n",
       "    <tr style=\"text-align: right;\">\n",
       "      <th>Classificador</th>\n",
       "      <th>Irrelevante</th>\n",
       "      <th>Relevante</th>\n",
       "    </tr>\n",
       "    <tr>\n",
       "      <th>Relevância</th>\n",
       "      <th></th>\n",
       "      <th></th>\n",
       "    </tr>\n",
       "  </thead>\n",
       "  <tbody>\n",
       "    <tr>\n",
       "      <th>Irrelevante</th>\n",
       "      <td>0.41</td>\n",
       "      <td>0.07</td>\n",
       "    </tr>\n",
       "    <tr>\n",
       "      <th>Relevante</th>\n",
       "      <td>0.32</td>\n",
       "      <td>0.20</td>\n",
       "    </tr>\n",
       "  </tbody>\n",
       "</table>\n",
       "</div>"
      ],
      "text/plain": [
       "Classificador  Irrelevante  Relevante\n",
       "Relevância                           \n",
       "Irrelevante           0.41       0.07\n",
       "Relevante             0.32       0.20"
      ]
     },
     "metadata": {},
     "execution_count": 24
    }
   ],
   "metadata": {}
  },
  {
   "cell_type": "code",
   "execution_count": 25,
   "source": [
    "print('O acerto do classificador na planilha de testes foi de: {0}%'.format((tabela_test.iloc[0,0]+tabela_test.iloc[1,1])*100))"
   ],
   "outputs": [
    {
     "output_type": "stream",
     "name": "stdout",
     "text": [
      "O acerto do classificador na planilha de testes foi de: 61.0%\n"
     ]
    }
   ],
   "metadata": {}
  },
  {
   "cell_type": "markdown",
   "source": [
    "## ___\n",
    "### Concluindo"
   ],
   "metadata": {}
  },
  {
   "cell_type": "code",
   "execution_count": 26,
   "source": [
    "print(f'Porcentagem de mensagens relevantes que foram classificadas como relevantes: {(tabela_test.iloc[1,1])*192.3:g}%')\r\n",
    "print(f'Porcentagem de mensagens relevantes que não foram classificadas como relevantes: {(tabela_test.iloc[1,0])*192.3:g}%')"
   ],
   "outputs": [
    {
     "output_type": "stream",
     "name": "stdout",
     "text": [
      "Porcentagem de mensagens relevantes que foram classificadas como relevantes: 38.46%\n",
      "Porcentagem de mensagens relevantes que não foram classificadas como relevantes: 61.536%\n"
     ]
    }
   ],
   "metadata": {}
  },
  {
   "cell_type": "code",
   "execution_count": 27,
   "source": [
    "print(f'Porcentagem de mensagens irrelevantes que foram classificadas como irrelevantes: {(tabela_test.iloc[0,0])*208.3:g}%')\r\n",
    "print()\r\n",
    "print(f'Porcentagem de mensagens irrelevantes que não foram classificadas como irrelevantes: {(tabela_test.iloc[0,1])*208.3:g}%')"
   ],
   "outputs": [
    {
     "output_type": "stream",
     "name": "stdout",
     "text": [
      "Porcentagem de mensagens irrelevantes que foram classificadas como irrelevantes: 85.403%\n",
      "\n",
      "Porcentagem de mensagens irrelevantes que não foram classificadas como irrelevantes: 14.581%\n"
     ]
    }
   ],
   "metadata": {}
  },
  {
   "cell_type": "markdown",
   "source": [
    "CONCLUSÃO:\r\n",
    "\r\n",
    "Como pode ser visto, o programa teve uma taxa razoavelmente alta de acertos para os tweets classificados como irrelevantes, enquanto para os tweets classificados como relevantes nem tanto. Levando-se em consideração a quantidade dos tweets marcados manualmente como relevantes e irrelevantes, a taxa de acerto dos tweets classificados como irrelevantes foi de 85.403%, enquanto a taxa de acerto dos tweets classificados como relevantes foi de apenas 38.46%.\r\n",
    "\r\n",
    "Essa incompatibilidade no classificador manual e de Naive-Bayes, pode ser justificada por diversos fatores. Entre eles, está o fato de que grande parte dos tweets relevantes são respostas à outros tweets, e portanto, aparecem com um link ao lado; esses links também estão muito presentes nos tweets irrelevantes que são maioria na dataframe e isso pode estar prejudicando o funcionamento do classificador. Adicionalmente, a utilização de gírias/slangs e a forma como os tweets são escritos também podem estar afetando o resultado final, visto que existem palavras que possuem sentido ambíguo e podem ser utilizadas positivamente ou negativamente, o classificador, ao vê-las em tanto tweets classificados relevantes e irrelevantes, “se confunde”.\r\n",
    "\r\n",
    "Dessa forma, para se melhorar a acurácia do nosso classificador, pode-se criar uma função que elimina os links de resposta à tweets e analisa o contexto da frase como um todo, assim não fazendo com que links e a utilização de palavras com sentido ambíguo não afetem a classificação final dos tweets.\r\n"
   ],
   "metadata": {}
  },
  {
   "cell_type": "markdown",
   "source": [
    "___\n",
    "### Qualidade do Classificador a partir de novas separações dos tweets entre Treinamento e Teste\n",
    "\n",
    "Caso for fazer esse item do Projeto"
   ],
   "metadata": {}
  },
  {
   "cell_type": "code",
   "execution_count": null,
   "source": [],
   "outputs": [],
   "metadata": {}
  },
  {
   "cell_type": "code",
   "execution_count": null,
   "source": [],
   "outputs": [],
   "metadata": {}
  },
  {
   "cell_type": "code",
   "execution_count": null,
   "source": [],
   "outputs": [],
   "metadata": {}
  },
  {
   "cell_type": "markdown",
   "source": [
    "___\n",
    "## Aperfeiçoamento:\n",
    "\n",
    "Trabalhos que conseguirem pelo menos conceito B vão evoluir em conceito dependendo da quantidade de itens avançados:\n",
    "\n",
    "* IMPLEMENTOU outras limpezas e transformações que não afetem a qualidade da informação contida nos tweets. Ex: stemming, lemmatization, stopwords\n",
    "* CORRIGIU separação de espaços entre palavras e emojis ou entre emojis e emojis\n",
    "* CRIOU categorias intermediárias de relevância baseadas na probabilidade: ex.: muito relevante, relevante, neutro, irrelevante, muito irrelevante. Pelo menos quatro categorias, com adição de mais tweets na base, conforme enunciado. (OBRIGATÓRIO PARA TRIOS, sem contar como item avançado)\n",
    "* EXPLICOU porquê não pode usar o próprio classificador para gerar mais amostras de treinamento\n",
    "* PROPÔS diferentes cenários para Naïve Bayes fora do contexto do projeto\n",
    "* SUGERIU e EXPLICOU melhorias reais com indicações concretas de como implementar (indicar como fazer e indicar material de pesquisa)\n",
    "* FEZ o item 6. Qualidade do Classificador a partir de novas separações dos tweets entre Treinamento e Teste descrito no enunciado do projeto (OBRIGATÓRIO para conceitos A ou A+)"
   ],
   "metadata": {}
  },
  {
   "cell_type": "markdown",
   "source": [
    "___\n",
    "## Referências"
   ],
   "metadata": {}
  },
  {
   "cell_type": "markdown",
   "source": [
    "[Naive Bayes and Text Classification](https://arxiv.org/pdf/1410.5329.pdf)  **Mais completo**\n",
    "\n",
    "[A practical explanation of a Naive Bayes Classifier](https://monkeylearn.com/blog/practical-explanation-naive-bayes-classifier/) **Mais simples**"
   ],
   "metadata": {}
  }
 ],
 "metadata": {
  "kernelspec": {
   "display_name": "Python 3",
   "language": "python",
   "name": "python3"
  },
  "language_info": {
   "codemirror_mode": {
    "name": "ipython",
    "version": 3
   },
   "file_extension": ".py",
   "mimetype": "text/x-python",
   "name": "python",
   "nbconvert_exporter": "python",
   "pygments_lexer": "ipython3",
   "version": "3.8.8"
  }
 },
 "nbformat": 4,
 "nbformat_minor": 4
}